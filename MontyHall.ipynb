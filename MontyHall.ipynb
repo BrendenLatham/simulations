{
  "nbformat": 4,
  "nbformat_minor": 0,
  "metadata": {
    "colab": {
      "name": "Untitled4.ipynb",
      "provenance": [],
      "authorship_tag": "ABX9TyM1dgEpRrF+49T7IweETM9A",
      "include_colab_link": true
    },
    "kernelspec": {
      "name": "python3",
      "display_name": "Python 3"
    },
    "language_info": {
      "name": "python"
    }
  },
  "cells": [
    {
      "cell_type": "markdown",
      "metadata": {
        "id": "view-in-github",
        "colab_type": "text"
      },
      "source": [
        "<a href=\"https://colab.research.google.com/github/BrendenLatham/simulations/blob/main/MontyHall.ipynb\" target=\"_parent\"><img src=\"https://colab.research.google.com/assets/colab-badge.svg\" alt=\"Open In Colab\"/></a>"
      ]
    },
    {
      "cell_type": "markdown",
      "source": [
        "Today I am going to use some random number generators to examine the outcomes of the Monty Hall problem"
      ],
      "metadata": {
        "id": "8bjkKpIYUObc"
      }
    },
    {
      "cell_type": "code",
      "source": [
        "import random\n",
        "import matplotlib.pyplot as plt"
      ],
      "metadata": {
        "id": "sFwnQqeAbyMR"
      },
      "execution_count": 21,
      "outputs": []
    },
    {
      "cell_type": "code",
      "source": [
        "def switch():\n",
        "  A = 0\n",
        "  B = 0\n",
        "  C = 0\n",
        "  # a random door is selected to be the prize door\n",
        "  prize_door = random.randrange(1,4,1)\n",
        "  if prize_door == 1:\n",
        "    A = 1\n",
        "  elif prize_door == 2:\n",
        "    B = 1\n",
        "  elif prize_door == 3:\n",
        "    C = 1\n",
        "  # a random door is selected to be the player's chosen door\n",
        "  selector = random.randrange(1,4,1)\n",
        "  if selector == 1:\n",
        "    selector = 'A'\n",
        "  elif selector == 2:\n",
        "    selector = 'B'\n",
        "  elif selector == 3:\n",
        "    selector = 'C'\n",
        "  # for the two left over doors, whichever one is 0, the player swaps to the remaining\n",
        "  if selector == 'A':\n",
        "    if B == 0:\n",
        "      selector = 'C'\n",
        "    elif C == 0:\n",
        "      selector = 'B'\n",
        "  if selector == 'B':\n",
        "    if A == 0:\n",
        "      selector = 'C'\n",
        "    elif C == 0:\n",
        "      selector = 'A'\n",
        "  if selector == 'C':\n",
        "    if A == 0:\n",
        "      selector = 'B'\n",
        "    elif B == 0:\n",
        "      selector = 'A'\n",
        "  # if the player wins, return 1\n",
        "  if selector == 'A' and A == 1:\n",
        "    return 1\n",
        "  elif selector == 'B' and B == 1:\n",
        "    return 1\n",
        "  elif selector == 'C' and C == 1:\n",
        "    return 1\n",
        "  #If the player loses, return 0\n",
        "  else:\n",
        "    return 0\n",
        "\n",
        "def sim(games):\n",
        "  wins = []\n",
        "  winprop = 0\n",
        "  for x in range(1,games+1,1):\n",
        "    wins.append(switch())\n",
        "  for y in wins:\n",
        "    winprop = winprop+y\n",
        "  return winprop/games\n",
        "\n",
        "sim(10000)"
      ],
      "metadata": {
        "colab": {
          "base_uri": "https://localhost:8080/"
        },
        "id": "LH8zp7d6b5Va",
        "outputId": "c0a7910f-ab0b-4d2f-a62e-539dbfa3e642"
      },
      "execution_count": 19,
      "outputs": [
        {
          "output_type": "execute_result",
          "data": {
            "text/plain": [
              "0.6686"
            ]
          },
          "metadata": {},
          "execution_count": 19
        }
      ]
    },
    {
      "cell_type": "code",
      "source": [
        "def stay():\n",
        "  A = 0\n",
        "  B = 0\n",
        "  C = 0\n",
        "  # a random door is selected to be the prize door\n",
        "  prize_door = random.randrange(1,4,1)\n",
        "  if prize_door == 1:\n",
        "    A = 1\n",
        "  elif prize_door == 2:\n",
        "    B = 1\n",
        "  elif prize_door == 3:\n",
        "    C = 1\n",
        "  # a random door is selected to be the player's chosen door\n",
        "  selector = random.randrange(1,4,1)\n",
        "  if selector == 1:\n",
        "    selector = 'A'\n",
        "  elif selector == 2:\n",
        "    selector = 'B'\n",
        "  elif selector == 3:\n",
        "    selector = 'C'\n",
        "  # the player stays with their door no matter which of the remaining two is revealed to be 0\n",
        "  if selector == 'A':\n",
        "    if B == 0:\n",
        "      selector = 'A'\n",
        "    elif C == 0:\n",
        "      selector = 'A'\n",
        "  if selector == 'B':\n",
        "    if A == 0:\n",
        "      selector = 'B'\n",
        "    elif C == 0:\n",
        "      selector = 'B'\n",
        "  if selector == 'C':\n",
        "    if A == 0:\n",
        "      selector = 'C'\n",
        "    elif B == 0:\n",
        "      selector = 'C'\n",
        "  # if the player wins, return 1\n",
        "  if selector == 'A' and A == 1:\n",
        "    return 1\n",
        "  elif selector == 'B' and B == 1:\n",
        "    return 1\n",
        "  elif selector == 'C' and C == 1:\n",
        "    return 1\n",
        "  # If the player loses, return 0\n",
        "  else:\n",
        "    return 0\n",
        "\n",
        "def sim2(games):\n",
        "  wins2 = []\n",
        "  winprop2 = 0\n",
        "  for x in range(1,games+1,1):\n",
        "    wins2.append(stay())\n",
        "  for y in wins2:\n",
        "    winprop2 = winprop2+y\n",
        "  return winprop2/games\n",
        "\n",
        "sim2(100000)"
      ],
      "metadata": {
        "colab": {
          "base_uri": "https://localhost:8080/"
        },
        "id": "vgcGAaKDdAao",
        "outputId": "bd07cb0a-97ad-44ba-f298-dc555fc1d4b7"
      },
      "execution_count": 20,
      "outputs": [
        {
          "output_type": "execute_result",
          "data": {
            "text/plain": [
              "0.33358"
            ]
          },
          "metadata": {},
          "execution_count": 20
        }
      ]
    },
    {
      "cell_type": "code",
      "source": [
        "xprop = []\n",
        "for z in range(1,1000,1):\n",
        "  xprop.append(sim(z))\n",
        "plt.plot(xprop)"
      ],
      "metadata": {
        "colab": {
          "base_uri": "https://localhost:8080/",
          "height": 282
        },
        "id": "qRetXQJ4e8ZF",
        "outputId": "1a52b8eb-8ea8-4bad-8c5f-5425d4f3361b"
      },
      "execution_count": 28,
      "outputs": [
        {
          "output_type": "execute_result",
          "data": {
            "text/plain": [
              "[<matplotlib.lines.Line2D at 0x7fdac1d0f7d0>]"
            ]
          },
          "metadata": {},
          "execution_count": 28
        },
        {
          "output_type": "display_data",
          "data": {
            "image/png": "[encoded data removed]",
            "text/plain": [
              "<Figure size 432x288 with 1 Axes>"
            ]
          },
          "metadata": {
            "needs_background": "light"
          }
        }
      ]
    },
    {
      "cell_type": "code",
      "source": [
        "yprop = []\n",
        "for w in range(1,1000,1):\n",
        "  yprop.append(sim2(w))\n",
        "plt.plot(yprop)"
      ],
      "metadata": {
        "colab": {
          "base_uri": "https://localhost:8080/",
          "height": 286
        },
        "id": "UNqh3r0hgUVQ",
        "outputId": "4be9c1c2-213b-4d56-9290-8adddee80d21"
      },
      "execution_count": 23,
      "outputs": [
        {
          "output_type": "execute_result",
          "data": {
            "text/plain": [
              "[<matplotlib.lines.Line2D at 0x7fdac1e922d0>]"
            ]
          },
          "metadata": {},
          "execution_count": 23
        },
        {
          "output_type": "display_data",
          "data": {
            "image/png": "[encoded data removed]",
            "text/plain": [
              "<Figure size 432x288 with 1 Axes>"
            ]
          },
          "metadata": {
            "needs_background": "light"
          }
        }
      ]
    }
  ]
}